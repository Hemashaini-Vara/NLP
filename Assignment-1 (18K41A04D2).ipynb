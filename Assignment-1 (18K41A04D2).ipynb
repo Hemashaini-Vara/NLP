{
 "cells": [
  {
   "cell_type": "code",
   "execution_count": 2,
   "id": "101151f5",
   "metadata": {},
   "outputs": [
    {
     "name": "stdout",
     "output_type": "stream",
     "text": [
      "Are  you  fascinated  by  the  amount  of  text  data  available  on  the  internet?\n",
      " \n",
      " \n",
      "Are you looking  for  ways  to  work  with  this  text  data  but  aren’t  sure  where  to  begin?\n",
      " \n",
      " \n",
      "Machines, after all, recognize numbers, not the letters of our language.\n",
      " \n",
      " \n",
      "And that can be a tricky landscape to navigate in machine learning.\n"
     ]
    }
   ],
   "source": [
    "#1. Split the above paragraph into sentences\n",
    "from nltk.tokenize import sent_tokenize\n",
    "para = '''Are  you  fascinated  by  the  amount  of  text  data  available  on  the  internet? Are you looking  for  ways  to  work  with  this  text  data  but  aren’t  sure  where  to  begin? Machines, after all, recognize numbers, not the letters of our language. And that can be a tricky landscape to navigate in machine learning.'''\n",
    "print('\\n \\n \\n'.join(sent_tokenize(para)))"
   ]
  },
  {
   "cell_type": "code",
   "execution_count": 3,
   "id": "c2e77224",
   "metadata": {},
   "outputs": [
    {
     "name": "stdout",
     "output_type": "stream",
     "text": [
      "['Are', 'you', 'fascinated', 'by', 'the', 'amount', 'of', 'text', 'data', 'available', 'on', 'the', 'internet', '?', 'Are', 'you', 'looking', 'for', 'ways', 'to', 'work', 'with', 'this', 'text', 'data', 'but', 'aren', '’', 't', 'sure', 'where', 'to', 'begin', '?', 'Machines', ',', 'after', 'all', ',', 'recognize', 'numbers', ',', 'not', 'the', 'letters', 'of', 'our', 'language', '.', 'And', 'that', 'can', 'be', 'a', 'tricky', 'landscape', 'to', 'navigate', 'in', 'machine', 'learning', '.']\n"
     ]
    }
   ],
   "source": [
    "#2. Split the above paragraph into words\n",
    "from nltk.tokenize import word_tokenize\n",
    "para =  '''Are  you  fascinated  by  the  amount  of  text  data  available  on  the  internet?  Are  you \n",
    "looking  for  ways  to  work  with  this  text  data  but  aren’t  sure  where  to  begin? \n",
    "Machines, after all, recognize numbers, not the letters of our language. And that can \n",
    "be a tricky landscape to navigate in machine learning.'''\n",
    "print(word_tokenize(para))"
   ]
  },
  {
   "cell_type": "code",
   "execution_count": 4,
   "id": "9dee121e",
   "metadata": {},
   "outputs": [
    {
     "name": "stdout",
     "output_type": "stream",
     "text": [
      "stemming for :\n",
      "   cats is cat\n",
      "   trouble is troubl\n",
      "   troubling is troubl\n",
      "   troubled is troubl\n",
      "   having is have\n",
      "   Corriendo is corriendo\n",
      "   at is at\n",
      "   was is wa\n"
     ]
    }
   ],
   "source": [
    "#3. Find STEM words for the given words?\n",
    "import nltk\n",
    "from nltk.stem.porter import PorterStemmer\n",
    "porter_stemmer  = PorterStemmer()\n",
    "words = ['cats','trouble','troubling','troubled','having','Corriendo','at','was']\n",
    "print(\"stemming for :\")\n",
    "for w in words:\n",
    "    print(\"   {} is {}\".format(w,porter_stemmer.stem(w)))"
   ]
  },
  {
   "cell_type": "code",
   "execution_count": 5,
   "id": "0b16e733",
   "metadata": {},
   "outputs": [
    {
     "name": "stdout",
     "output_type": "stream",
     "text": [
      "lemma for :\n",
      "   cats is cats\n",
      "   trouble is trouble\n",
      "   troubling is troubling\n",
      "   troubled is troubled\n",
      "   having is having\n",
      "   Corriendo is Corriendo\n",
      "   at is at\n",
      "   was is was\n"
     ]
    }
   ],
   "source": [
    "#3. Find LEMMA words for the given words?\n",
    "import nltk\n",
    "from nltk.stem import WordNetLemmatizer \n",
    "lemmatizer = WordNetLemmatizer()\n",
    "words = ['cats','trouble','troubling','troubled','having','Corriendo','at','was']\n",
    "print(\"lemma for :\")\n",
    "for w in words:\n",
    "    print(\"   {} is {}\".format(w,w, lemmatizer.lemmatize(w)))"
   ]
  },
  {
   "cell_type": "code",
   "execution_count": 13,
   "id": "f5d4c6f5",
   "metadata": {},
   "outputs": [
    {
     "name": "stdout",
     "output_type": "stream",
     "text": [
      "['is', 'of', 'the', 'and', 'most', 'for', 'and', 'you', 'can', 'the', 'of', 'in', 'the', 'from', 'a', 'you', 'can', 'your', 'into', 'and', 'then', 'the', 'if', 'it', 'in', 'the', 'of', 'by']\n"
     ]
    }
   ],
   "source": [
    "#Find stop words from the given paragraph?\n",
    "from nltk.corpus import stopwords\n",
    "from nltk.tokenize import word_tokenize\n",
    "text = \"\"\"The NLTK library  is  one  of  the  oldest  and  most  commonly  used  Python  libraries  for \n",
    "Natural Language Processing. NLTK supports stop word removal, and you can find the list \n",
    "of stop words in the  corpus  module. To remove stop words from a sentence, you can divide \n",
    "your text into words and then remove the word if it exits in the list of stop words provided \n",
    "by NLTK\"\"\"\n",
    "stop_words = set(stopwords.words('english'))\n",
    "word_tokens = word_tokenize(text)\n",
    "stopwords=[]\n",
    "for w in word_tokens:\n",
    "    if w in stop_words:\n",
    "        stopwords.append(w)\n",
    "print(stopwords)\n"
   ]
  },
  {
   "cell_type": "code",
   "execution_count": 6,
   "id": "71730eb7",
   "metadata": {},
   "outputs": [
    {
     "name": "stdout",
     "output_type": "stream",
     "text": [
      ",: 2\n",
      ".: 3\n",
      "Language: 1\n",
      "NLTK: 3\n",
      "Natural: 1\n",
      "Processing: 1\n",
      "Python: 1\n",
      "To: 1\n",
      "a: 1\n",
      "and: 3\n",
      "by: 1\n",
      "can: 2\n",
      "commonly: 1\n",
      "corpus: 1\n",
      "divide: 1\n",
      "exits: 1\n",
      "find: 1\n",
      "for: 1\n",
      "from: 1\n",
      "he: 1\n",
      "if: 1\n",
      "in: 2\n",
      "into: 1\n",
      "is: 1\n",
      "it: 1\n",
      "libraries: 1\n",
      "library: 1\n",
      "list: 2\n",
      "module: 1\n",
      "most: 1\n",
      "of: 3\n",
      "oldest: 1\n",
      "one: 1\n",
      "provided: 1\n",
      "removal: 1\n",
      "remove: 2\n",
      "sentence: 1\n",
      "stop: 4\n",
      "supports: 1\n",
      "text: 1\n",
      "the: 5\n",
      "then: 1\n",
      "used: 1\n",
      "word: 2\n",
      "words: 4\n",
      "you: 2\n",
      "your: 1\n"
     ]
    }
   ],
   "source": [
    "#5. From the above paragraph print frequency of each word using NLTK?import nltk\n",
    "from nltk.corpus import webtext\n",
    "from nltk.probability import FreqDist\n",
    "from nltk.tokenize import word_tokenize\n",
    "para = '''he NLTK library  is  one  of  the  oldest  and  most  commonly  used  Python  libraries  for \n",
    "Natural Language Processing. NLTK supports stop word removal, and you can find the list \n",
    "of stop words in the  corpus  module. To remove stop words from a sentence, you can divide \n",
    "your text into words and then remove the word if it exits in the list of stop words provided \n",
    "by NLTK.'''\n",
    "words = word_tokenize(para)\n",
    "data_analysis = nltk.FreqDist(words)\n",
    "filter_words = dict([(m, n) for m, n in data_analysis.items()])\n",
    "for key in sorted(filter_words):\n",
    "    print(\"%s: %s\" % (key, filter_words[key]))"
   ]
  }
 ],
 "metadata": {
  "kernelspec": {
   "display_name": "Python 3",
   "language": "python",
   "name": "python3"
  },
  "language_info": {
   "codemirror_mode": {
    "name": "ipython",
    "version": 3
   },
   "file_extension": ".py",
   "mimetype": "text/x-python",
   "name": "python",
   "nbconvert_exporter": "python",
   "pygments_lexer": "ipython3",
   "version": "3.8.8"
  }
 },
 "nbformat": 4,
 "nbformat_minor": 5
}
